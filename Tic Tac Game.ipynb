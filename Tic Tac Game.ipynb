{
 "cells": [
  {
   "cell_type": "code",
   "execution_count": null,
   "id": "4c33f6d0",
   "metadata": {},
   "outputs": [
    {
     "name": "stdout",
     "output_type": "stream",
     "text": [
      " |  | \n",
      "---------\n",
      " |  | \n",
      "---------\n",
      " |  | \n",
      "---------\n"
     ]
    }
   ],
   "source": [
    "def print_board(board):\n",
    "    for row in board:\n",
    "        print(\" | \".join(row))\n",
    "        print(\"-\" * 9)\n",
    "\n",
    "\n",
    "def get_move(board, player_symbol):\n",
    "    while True:\n",
    "        try:\n",
    "            row = int(input(f\"Player {player_symbol}, enter row (1-3): \")) - 1\n",
    "            col = int(input(f\"Player {player_symbol}, enter column (1-3): \")) - 1\n",
    "\n",
    "            if 0 <= row <= 2 and 0 <= col <= 2 and board[row][col] == \"\":\n",
    "                return row, col\n",
    "            else:\n",
    "                print(\"Invalid move. Try again.\")\n",
    "        except ValueError:\n",
    "            print(\"Invalid input. Please enter valid row and column numbers.\")\n",
    "\n",
    "\n",
    "def check_win(board, player_symbol):\n",
    "    for row in board:\n",
    "        if all(square == player_symbol for square in row):\n",
    "            return True\n",
    "\n",
    "    for col in range(3):\n",
    "        if all(board[row][col] == player_symbol for row in range(3)):\n",
    "            return True\n",
    "\n",
    "    if all(board[i][i] == player_symbol for i in range(3)):\n",
    "        return True\n",
    "\n",
    "    if all(board[i][2 - i] == player_symbol for i in range(3)):\n",
    "        return True\n",
    "\n",
    "    return False\n",
    "\n",
    "\n",
    "def check_tie(board):\n",
    "    return all(board[row][col] != \"\" for row in range(3) for col in range(3))\n",
    "\n",
    "\n",
    "def main():\n",
    "    # Initialize the game board\n",
    "    board = [[\"\" for _ in range(3)] for _ in range(3)]\n",
    "\n",
    "    # Define player symbols\n",
    "    players = [\"X\", \"O\"]\n",
    "    player_idx = 0\n",
    "\n",
    "    while True:\n",
    "        print_board(board)\n",
    "        current_player = players[player_idx]\n",
    "        row, col = get_move(board, current_player)\n",
    "        board[row][col] = current_player\n",
    "\n",
    "        if check_win(board, current_player):\n",
    "            print_board(board)\n",
    "            print(f\"Player {current_player} wins!\")\n",
    "            break\n",
    "\n",
    "        if check_tie(board):\n",
    "            print_board(board)\n",
    "            print(\"It's a tie!\")\n",
    "            break\n",
    "\n",
    "        player_idx = (player_idx + 1) % 2\n",
    "\n",
    "\n",
    "if __name__ == \"__main__\":\n",
    "    main()\n"
   ]
  },
  {
   "cell_type": "code",
   "execution_count": null,
   "id": "69d87954",
   "metadata": {},
   "outputs": [],
   "source": []
  }
 ],
 "metadata": {
  "kernelspec": {
   "display_name": "Python 3 (ipykernel)",
   "language": "python",
   "name": "python3"
  },
  "language_info": {
   "codemirror_mode": {
    "name": "ipython",
    "version": 3
   },
   "file_extension": ".py",
   "mimetype": "text/x-python",
   "name": "python",
   "nbconvert_exporter": "python",
   "pygments_lexer": "ipython3",
   "version": "3.11.3"
  }
 },
 "nbformat": 4,
 "nbformat_minor": 5
}
